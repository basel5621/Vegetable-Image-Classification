{
  "nbformat": 4,
  "nbformat_minor": 0,
  "metadata": {
    "colab": {
      "provenance": [],
      "gpuType": "T4",
      "include_colab_link": true
    },
    "kernelspec": {
      "name": "python3",
      "display_name": "Python 3"
    },
    "language_info": {
      "name": "python"
    },
    "accelerator": "GPU"
  },
  "cells": [
    {
      "cell_type": "markdown",
      "metadata": {
        "id": "view-in-github",
        "colab_type": "text"
      },
      "source": [
        "<a href=\"https://colab.research.google.com/github/basel5621/Vegetable-Image-Classification/blob/main/Pytorch_vegetables_CNN.ipynb\" target=\"_parent\"><img src=\"https://colab.research.google.com/assets/colab-badge.svg\" alt=\"Open In Colab\"/></a>"
      ]
    },
    {
      "cell_type": "code",
      "source": [
        "\n",
        "# IMPORTANT: RUN THIS CELL IN ORDER TO IMPORT YOUR KAGGLE DATA SOURCES\n",
        "# TO THE CORRECT LOCATION (/kaggle/input) IN YOUR NOTEBOOK,\n",
        "# THEN FEEL FREE TO DELETE THIS CELL.\n",
        "# NOTE: THIS NOTEBOOK ENVIRONMENT DIFFERS FROM KAGGLE'S PYTHON\n",
        "# ENVIRONMENT SO THERE MAY BE MISSING LIBRARIES USED BY YOUR\n",
        "# NOTEBOOK.\n",
        "\n",
        "import os\n",
        "import sys\n",
        "from tempfile import NamedTemporaryFile\n",
        "from urllib.request import urlopen\n",
        "from urllib.parse import unquote, urlparse\n",
        "from urllib.error import HTTPError\n",
        "from zipfile import ZipFile\n",
        "import tarfile\n",
        "import shutil\n",
        "\n",
        "CHUNK_SIZE = 40960\n",
        "DATA_SOURCE_MAPPING = 'vegetable-image-dataset:https%3A%2F%2Fstorage.googleapis.com%2Fkaggle-data-sets%2F1817999%2F2965251%2Fbundle%2Farchive.zip%3FX-Goog-Algorithm%3DGOOG4-RSA-SHA256%26X-Goog-Credential%3Dgcp-kaggle-com%2540kaggle-161607.iam.gserviceaccount.com%252F20240928%252Fauto%252Fstorage%252Fgoog4_request%26X-Goog-Date%3D20240928T093945Z%26X-Goog-Expires%3D259200%26X-Goog-SignedHeaders%3Dhost%26X-Goog-Signature%3D30c45495fae5ea886f341951b42d93484c43cd9899d229691d4d693eb2eeb561b2257cd6f3d767be118b2fb88abd74882fadcf92943be2804d4acc4ebb47eb612b88f4b2a2f71f33167c7e6dd34c03510dd1e16f0b2882303596e8da7eb2b449ec665e107cd7a0a07ed10d56f2854bf029a1d7ca790ea913b7cbef57e8bd8738f21496aac2074571139204e61abedfe8c51e277411852a20daf354d2a5ef0521b4350cc7861db46fcaa7a8a67ef7ad07a7f6f53b1c39c12421d5be866cc92e661a85751f6e04954e315bf2f2611f2db999d14cd6f30f4f569d5485c4639da60ab88a202181b0af70c02e14878117f4f257d8b1f4ddc16d8fa3ee22e66d843689'\n",
        "\n",
        "KAGGLE_INPUT_PATH='/kaggle/input'\n",
        "KAGGLE_WORKING_PATH='/kaggle/working'\n",
        "KAGGLE_SYMLINK='kaggle'\n",
        "\n",
        "!umount /kaggle/input/ 2> /dev/null\n",
        "shutil.rmtree('/kaggle/input', ignore_errors=True)\n",
        "os.makedirs(KAGGLE_INPUT_PATH, 0o777, exist_ok=True)\n",
        "os.makedirs(KAGGLE_WORKING_PATH, 0o777, exist_ok=True)\n",
        "\n",
        "try:\n",
        "  os.symlink(KAGGLE_INPUT_PATH, os.path.join(\"..\", 'input'), target_is_directory=True)\n",
        "except FileExistsError:\n",
        "  pass\n",
        "try:\n",
        "  os.symlink(KAGGLE_WORKING_PATH, os.path.join(\"..\", 'working'), target_is_directory=True)\n",
        "except FileExistsError:\n",
        "  pass\n",
        "\n",
        "for data_source_mapping in DATA_SOURCE_MAPPING.split(','):\n",
        "    directory, download_url_encoded = data_source_mapping.split(':')\n",
        "    download_url = unquote(download_url_encoded)\n",
        "    filename = urlparse(download_url).path\n",
        "    destination_path = os.path.join(KAGGLE_INPUT_PATH, directory)\n",
        "    try:\n",
        "        with urlopen(download_url) as fileres, NamedTemporaryFile() as tfile:\n",
        "            total_length = fileres.headers['content-length']\n",
        "            print(f'Downloading {directory}, {total_length} bytes compressed')\n",
        "            dl = 0\n",
        "            data = fileres.read(CHUNK_SIZE)\n",
        "            while len(data) > 0:\n",
        "                dl += len(data)\n",
        "                tfile.write(data)\n",
        "                done = int(50 * dl / int(total_length))\n",
        "                sys.stdout.write(f\"\\r[{'=' * done}{' ' * (50-done)}] {dl} bytes downloaded\")\n",
        "                sys.stdout.flush()\n",
        "                data = fileres.read(CHUNK_SIZE)\n",
        "            if filename.endswith('.zip'):\n",
        "              with ZipFile(tfile) as zfile:\n",
        "                zfile.extractall(destination_path)\n",
        "            else:\n",
        "              with tarfile.open(tfile.name) as tarfile:\n",
        "                tarfile.extractall(destination_path)\n",
        "            print(f'\\nDownloaded and uncompressed: {directory}')\n",
        "    except HTTPError as e:\n",
        "        print(f'Failed to load (likely expired) {download_url} to path {destination_path}')\n",
        "        continue\n",
        "    except OSError as e:\n",
        "        print(f'Failed to load {download_url} to path {destination_path}')\n",
        "        continue\n",
        "\n",
        "print('Data source import complete.')\n"
      ],
      "metadata": {
        "colab": {
          "base_uri": "https://localhost:8080/"
        },
        "id": "3M6E3Fnd_Sfn",
        "outputId": "09246bf4-1b2a-411c-bd52-f8b7004d3319"
      },
      "execution_count": 1,
      "outputs": [
        {
          "output_type": "stream",
          "name": "stdout",
          "text": [
            "Downloading vegetable-image-dataset, 560031432 bytes compressed\n",
            "[==================================================] 560031432 bytes downloaded\n",
            "Downloaded and uncompressed: vegetable-image-dataset\n",
            "Data source import complete.\n"
          ]
        }
      ]
    },
    {
      "cell_type": "code",
      "source": [
        "# This Python 3 environment comes with many helpful analytics libraries installed\n",
        "# It is defined by the kaggle/python Docker image: https://github.com/kaggle/docker-python\n",
        "# For example, here's several helpful packages to load\n",
        "\n",
        "import numpy as np # linear algebra\n",
        "import pandas as pd # data processing, CSV file I/O (e.g. pd.read_csv)\n",
        "\n",
        "# Input data files are available in the read-only \"../input/\" directory\n",
        "# For example, running this (by clicking run or pressing Shift+Enter) will list all files under the input directory\n",
        "\n",
        "import os\n",
        "for dirname, _, filenames in os.walk('/kaggle/input'):\n",
        "    for filename in filenames:\n",
        "        os.path.join(dirname, filename)\n",
        "\n",
        "print('DONE')\n",
        "\n",
        "# You can write up to 20GB to the current directory (/kaggle/working/) that gets preserved as output when you create a version using \"Save & Run All\"\n",
        "# You can also write temporary files to /kaggle/temp/, but they won't be saved outside of the current session"
      ],
      "metadata": {
        "colab": {
          "base_uri": "https://localhost:8080/"
        },
        "id": "ONagXp2l_afd",
        "outputId": "891374d5-b54c-463f-f5e4-8c56d8df9f14"
      },
      "execution_count": 2,
      "outputs": [
        {
          "output_type": "stream",
          "name": "stdout",
          "text": [
            "DONE\n"
          ]
        }
      ]
    },
    {
      "cell_type": "code",
      "source": [
        "import torchvision\n",
        "from torchvision import transforms\n",
        "\n",
        "train_dataset_path='/kaggle/input/vegetable-image-dataset/Vegetable Images/train'\n",
        "transforms = transforms.Compose([transforms.Resize((64,64)),\n",
        "                                  transforms.ToTensor(),\n",
        "                                  transforms.Normalize(mean=[0.485,0.456,0.406],\n",
        "                                                       std=[0.229,0.224,0.225])\n",
        "                                  ])\n",
        "train_data = torchvision.datasets.ImageFolder(train_dataset_path,transform=transforms)"
      ],
      "metadata": {
        "id": "hDsoU8ww3nl5"
      },
      "execution_count": 3,
      "outputs": []
    },
    {
      "cell_type": "code",
      "source": [
        "train_data"
      ],
      "metadata": {
        "colab": {
          "base_uri": "https://localhost:8080/"
        },
        "id": "DPC1kK8w_R_O",
        "outputId": "38f25ea1-3030-4a3f-fbb9-48ba6eeefefb"
      },
      "execution_count": 4,
      "outputs": [
        {
          "output_type": "execute_result",
          "data": {
            "text/plain": [
              "Dataset ImageFolder\n",
              "    Number of datapoints: 15000\n",
              "    Root location: /kaggle/input/vegetable-image-dataset/Vegetable Images/train\n",
              "    StandardTransform\n",
              "Transform: Compose(\n",
              "               Resize(size=(64, 64), interpolation=bilinear, max_size=None, antialias=True)\n",
              "               ToTensor()\n",
              "               Normalize(mean=[0.485, 0.456, 0.406], std=[0.229, 0.224, 0.225])\n",
              "           )"
            ]
          },
          "metadata": {},
          "execution_count": 4
        }
      ]
    },
    {
      "cell_type": "code",
      "source": [
        "validation_dataset_path='/kaggle/input/vegetable-image-dataset/Vegetable Images/validation'\n",
        "val_data=torchvision.datasets.ImageFolder(validation_dataset_path,transform=transforms)\n",
        "\n",
        "test_dataset_path='/kaggle/input/vegetable-image-dataset/Vegetable Images/test'\n",
        "test_data=torchvision.datasets.ImageFolder(test_dataset_path,transform=transforms)"
      ],
      "metadata": {
        "id": "FRhFWHI4A5uw"
      },
      "execution_count": 5,
      "outputs": []
    },
    {
      "cell_type": "code",
      "source": [
        "from torch.utils import data\n",
        "batch_size=64\n",
        "train_data_loader = data.DataLoader(train_data, batch_size, shuffle=True)\n",
        "val_data_loader = data.DataLoader(val_data, batch_size, shuffle=True)\n",
        "test_data_loader = data.DataLoader(test_data, batch_size, shuffle=True)"
      ],
      "metadata": {
        "id": "Kfh-0nzWBgma"
      },
      "execution_count": 6,
      "outputs": []
    },
    {
      "cell_type": "code",
      "source": [
        "train_data_loader"
      ],
      "metadata": {
        "colab": {
          "base_uri": "https://localhost:8080/"
        },
        "id": "00S87Z5sB9ym",
        "outputId": "7563f021-b04b-430c-a8d1-76b1516a9219"
      },
      "execution_count": 7,
      "outputs": [
        {
          "output_type": "execute_result",
          "data": {
            "text/plain": [
              "<torch.utils.data.dataloader.DataLoader at 0x7fa2002966e0>"
            ]
          },
          "metadata": {},
          "execution_count": 7
        }
      ]
    },
    {
      "cell_type": "code",
      "source": [
        "labels=train_data_loader.dataset.classes\n",
        "labels={i:labels[i] for i in range(len(labels))}\n",
        "labels"
      ],
      "metadata": {
        "id": "CIQxKProHlZ_",
        "colab": {
          "base_uri": "https://localhost:8080/"
        },
        "outputId": "7cd3c535-ec50-410f-9449-43aa7340fd1f"
      },
      "execution_count": 50,
      "outputs": [
        {
          "output_type": "execute_result",
          "data": {
            "text/plain": [
              "{0: 'Bean',\n",
              " 1: 'Bitter_Gourd',\n",
              " 2: 'Bottle_Gourd',\n",
              " 3: 'Brinjal',\n",
              " 4: 'Broccoli',\n",
              " 5: 'Cabbage',\n",
              " 6: 'Capsicum',\n",
              " 7: 'Carrot',\n",
              " 8: 'Cauliflower',\n",
              " 9: 'Cucumber',\n",
              " 10: 'Papaya',\n",
              " 11: 'Potato',\n",
              " 12: 'Pumpkin',\n",
              " 13: 'Radish',\n",
              " 14: 'Tomato'}"
            ]
          },
          "metadata": {},
          "execution_count": 50
        }
      ]
    },
    {
      "cell_type": "code",
      "source": [
        "import torch.nn as nn\n",
        "import torch.nn.functional as F\n",
        "import torch.optim as optim\n",
        "import torch\n",
        "class CNNNet(nn.Module):\n",
        "  def __init__(self , img_width, img_height, num_classes=15):\n",
        "    super(CNNNet,self).__init__()\n",
        "    self.features=nn.Sequential(\n",
        "        nn.Conv2d(3,32,kernel_size=3,padding=1),\n",
        "        nn.ReLU(),\n",
        "        nn.MaxPool2d(kernel_size=2),\n",
        "\n",
        "        nn.Conv2d(32,64,kernel_size=3,padding=1),\n",
        "        nn.ReLU(),\n",
        "        nn.MaxPool2d(kernel_size=2),\n",
        "\n",
        "        nn.Conv2d(64,128,kernel_size=3,padding=1),\n",
        "        nn.ReLU(),\n",
        "        nn.MaxPool2d(kernel_size=2),\n",
        "\n",
        "        nn.Conv2d(128,256,kernel_size=3,padding=1),\n",
        "        nn.ReLU(),\n",
        "        nn.MaxPool2d(kernel_size=2),\n",
        "\n",
        "    )\n",
        "    self.flatten = nn.Flatten()\n",
        "    input_size = (img_width // 16) * (img_height // 16) * 256\n",
        "    self.classifier = nn.Sequential(\n",
        "        nn.Linear(input_size,1024),\n",
        "        nn.ReLU(),\n",
        "        nn.Dropout(0.25),\n",
        "        nn.Linear(1024,num_classes)\n",
        "    )\n",
        "\n",
        "  def forward(self,x):\n",
        "    x = self.features(x)\n",
        "    x = self.flatten(x)\n",
        "    x = self.classifier(x)\n",
        "    return x\n"
      ],
      "metadata": {
        "id": "yjZcEEj9oy87"
      },
      "execution_count": 17,
      "outputs": []
    },
    {
      "cell_type": "code",
      "source": [
        "IMG_WIDTH = 64\n",
        "IMG_HEIGHT = 64\n",
        "num_classes = 15\n",
        "\n",
        "model = CNNNet(img_width=IMG_WIDTH, img_height=IMG_HEIGHT, num_classes=num_classes)\n",
        "\n",
        "criterion = nn.CrossEntropyLoss()\n",
        "optimizer = torch.optim.Adam(model.parameters(), lr=0.001)"
      ],
      "metadata": {
        "id": "jTbt9frlzK-R"
      },
      "execution_count": 24,
      "outputs": []
    },
    {
      "cell_type": "code",
      "source": [
        "import torch\n",
        "if torch.cuda.is_available():\n",
        "    device = torch.device(\"cuda\")\n",
        "    print('Using GPU')\n",
        "else:\n",
        "    device = torch.device(\"cpu\")\n",
        "    print('Using CPU')\n",
        "model.to(device)"
      ],
      "metadata": {
        "colab": {
          "base_uri": "https://localhost:8080/"
        },
        "id": "n4BytcEva8xr",
        "outputId": "4d72ea57-40a9-4489-a335-d63680191f0c"
      },
      "execution_count": 25,
      "outputs": [
        {
          "output_type": "stream",
          "name": "stdout",
          "text": [
            "Using GPU\n"
          ]
        },
        {
          "output_type": "execute_result",
          "data": {
            "text/plain": [
              "CNNNet(\n",
              "  (features): Sequential(\n",
              "    (0): Conv2d(3, 32, kernel_size=(3, 3), stride=(1, 1), padding=(1, 1))\n",
              "    (1): ReLU()\n",
              "    (2): MaxPool2d(kernel_size=2, stride=2, padding=0, dilation=1, ceil_mode=False)\n",
              "    (3): Conv2d(32, 64, kernel_size=(3, 3), stride=(1, 1), padding=(1, 1))\n",
              "    (4): ReLU()\n",
              "    (5): MaxPool2d(kernel_size=2, stride=2, padding=0, dilation=1, ceil_mode=False)\n",
              "    (6): Conv2d(64, 128, kernel_size=(3, 3), stride=(1, 1), padding=(1, 1))\n",
              "    (7): ReLU()\n",
              "    (8): MaxPool2d(kernel_size=2, stride=2, padding=0, dilation=1, ceil_mode=False)\n",
              "    (9): Conv2d(128, 256, kernel_size=(3, 3), stride=(1, 1), padding=(1, 1))\n",
              "    (10): ReLU()\n",
              "    (11): MaxPool2d(kernel_size=2, stride=2, padding=0, dilation=1, ceil_mode=False)\n",
              "  )\n",
              "  (flatten): Flatten(start_dim=1, end_dim=-1)\n",
              "  (classifier): Sequential(\n",
              "    (0): Linear(in_features=4096, out_features=1024, bias=True)\n",
              "    (1): ReLU()\n",
              "    (2): Dropout(p=0.25, inplace=False)\n",
              "    (3): Linear(in_features=1024, out_features=15, bias=True)\n",
              "  )\n",
              ")"
            ]
          },
          "metadata": {},
          "execution_count": 25
        }
      ]
    },
    {
      "cell_type": "code",
      "source": [
        "import pandas as pd\n",
        "def train_model(model , optimizer , loss_fn ,train_loader ,val_loader, epochs=20,device='cpu'):\n",
        "  train_loss_history=[]\n",
        "  val_loss_history=[]\n",
        "  for epoch in range(epochs):\n",
        "    training_loss=0\n",
        "    valid_loss=0\n",
        "    model.train()\n",
        "    for batch in train_loader:\n",
        "      optimizer.zero_grad()\n",
        "      inputs,targets = batch\n",
        "      inputs = inputs.to(device)\n",
        "      targets = targets.to(device)\n",
        "      output=model(inputs)\n",
        "      loss= loss_fn(output,targets)\n",
        "      loss.backward()\n",
        "      optimizer.step()\n",
        "      training_loss+= loss.data.item() * inputs.size(0)\n",
        "    training_loss/= len(train_loader.dataset)\n",
        "\n",
        "    model.eval()\n",
        "    num_correct = 0\n",
        "    num_examples = 0\n",
        "    for batch in val_loader:\n",
        "      inputs,targets=batch\n",
        "      inputs = inputs.to(device)\n",
        "      targets = targets.to(device)\n",
        "      output=model(inputs)\n",
        "      loss= loss_fn(output,targets)\n",
        "      valid_loss += loss.data.item() * inputs.size(0)\n",
        "      correct = torch.eq(torch.max(F.softmax(output, dim=1), dim=1)[1], targets).view(-1)\n",
        "      num_correct += torch.sum(correct).item()\n",
        "      num_examples += correct.shape[0]\n",
        "    valid_loss /= len(val_loader.dataset)\n",
        "    print('Epoch: {}, Training Loss: {}, Validation Loss: {}, accuracy = {}'.format(epoch+1, training_loss,valid_loss, num_correct / num_examples))\n",
        "    train_loss_history.append(training_loss)\n",
        "    val_loss_history.append(valid_loss)\n",
        "  df= pd.DataFrame({'train_loss':train_loss_history,'valid_loss':val_loss_history})\n",
        "  return df"
      ],
      "metadata": {
        "id": "__Msy91y1gth"
      },
      "execution_count": 26,
      "outputs": []
    },
    {
      "cell_type": "code",
      "source": [
        "history = train_model(model,optimizer,criterion,train_data_loader,val_data_loader,epochs=50,device=device)"
      ],
      "metadata": {
        "id": "QD-cvrk06xQx",
        "colab": {
          "base_uri": "https://localhost:8080/"
        },
        "outputId": "7eca7099-c1f6-43d7-f430-ebba2e9f703f"
      },
      "execution_count": 27,
      "outputs": [
        {
          "output_type": "stream",
          "name": "stdout",
          "text": [
            "Epoch: 1, Training Loss: 1.1788515106201172, Validation Loss: 0.4705664472579956, accuracy = 0.852\n",
            "Epoch: 2, Training Loss: 0.3337478947162628, Validation Loss: 0.28514869141578675, accuracy = 0.9163333333333333\n",
            "Epoch: 3, Training Loss: 0.1578528274854024, Validation Loss: 0.1791295260488987, accuracy = 0.95\n",
            "Epoch: 4, Training Loss: 0.11086022547483444, Validation Loss: 0.14683803563316664, accuracy = 0.957\n",
            "Epoch: 5, Training Loss: 0.0678115102507174, Validation Loss: 0.10297406653563182, accuracy = 0.9736666666666667\n",
            "Epoch: 6, Training Loss: 0.04665349453836679, Validation Loss: 0.11351153535147508, accuracy = 0.9746666666666667\n",
            "Epoch: 7, Training Loss: 0.04491339748402436, Validation Loss: 0.17267677728335062, accuracy = 0.9613333333333334\n",
            "Epoch: 8, Training Loss: 0.04688457982192437, Validation Loss: 0.12951612173269192, accuracy = 0.9713333333333334\n",
            "Epoch: 9, Training Loss: 0.038276776899925126, Validation Loss: 0.10208379787237694, accuracy = 0.9766666666666667\n",
            "Epoch: 10, Training Loss: 0.03529140677222361, Validation Loss: 0.10469444768627485, accuracy = 0.9786666666666667\n",
            "Epoch: 11, Training Loss: 0.05687690101861954, Validation Loss: 0.1310545396010081, accuracy = 0.9703333333333334\n",
            "Epoch: 12, Training Loss: 0.024428877344510207, Validation Loss: 0.09564329472184181, accuracy = 0.9803333333333333\n",
            "Epoch: 13, Training Loss: 0.02467507613200384, Validation Loss: 0.10059295568863551, accuracy = 0.9803333333333333\n",
            "Epoch: 14, Training Loss: 0.02262352290689014, Validation Loss: 0.11071439307540035, accuracy = 0.9786666666666667\n",
            "Epoch: 15, Training Loss: 0.010628404727089218, Validation Loss: 0.12659703764133157, accuracy = 0.9746666666666667\n",
            "Epoch: 16, Training Loss: 0.0382511081528229, Validation Loss: 0.09473556756414472, accuracy = 0.9776666666666667\n",
            "Epoch: 17, Training Loss: 0.032805765203014016, Validation Loss: 0.12440175396452348, accuracy = 0.973\n",
            "Epoch: 18, Training Loss: 0.020765187253446008, Validation Loss: 0.09114743186347186, accuracy = 0.981\n",
            "Epoch: 19, Training Loss: 0.015370865047210828, Validation Loss: 0.3647136555512746, accuracy = 0.925\n",
            "Epoch: 20, Training Loss: 0.04374081988025767, Validation Loss: 0.1265948629975319, accuracy = 0.9703333333333334\n",
            "Epoch: 21, Training Loss: 0.014870110356375033, Validation Loss: 0.09213413165486417, accuracy = 0.984\n",
            "Epoch: 22, Training Loss: 0.0106928609937313, Validation Loss: 0.1417701069501539, accuracy = 0.9736666666666667\n",
            "Epoch: 23, Training Loss: 0.04698959738058814, Validation Loss: 0.12424694345581035, accuracy = 0.974\n",
            "Epoch: 24, Training Loss: 0.017495368657203896, Validation Loss: 0.10287114662925402, accuracy = 0.981\n",
            "Epoch: 25, Training Loss: 0.014174892160536062, Validation Loss: 0.11728167640371248, accuracy = 0.977\n",
            "Epoch: 26, Training Loss: 0.021294232074421597, Validation Loss: 0.11199001868030367, accuracy = 0.9783333333333334\n",
            "Epoch: 27, Training Loss: 0.015462090010789204, Validation Loss: 0.18212003053724765, accuracy = 0.97\n",
            "Epoch: 28, Training Loss: 0.03032904544537499, Validation Loss: 0.12978155772356936, accuracy = 0.977\n",
            "Epoch: 29, Training Loss: 0.020802945567038843, Validation Loss: 0.194304174999396, accuracy = 0.964\n",
            "Epoch: 30, Training Loss: 0.01487394698355929, Validation Loss: 0.1458267373985145, accuracy = 0.974\n",
            "Epoch: 31, Training Loss: 0.026571434449490578, Validation Loss: 0.12578635658110338, accuracy = 0.9816666666666667\n",
            "Epoch: 32, Training Loss: 0.022695458475634707, Validation Loss: 0.1710370388540129, accuracy = 0.9743333333333334\n",
            "Epoch: 33, Training Loss: 0.014064181756269075, Validation Loss: 0.1366829787446962, accuracy = 0.9813333333333333\n",
            "Epoch: 34, Training Loss: 0.006688605813198864, Validation Loss: 0.11939332936649831, accuracy = 0.983\n",
            "Epoch: 35, Training Loss: 0.0005720873037845005, Validation Loss: 0.14413228987859716, accuracy = 0.9826666666666667\n",
            "Epoch: 36, Training Loss: 0.0011492334375285188, Validation Loss: 0.1637033275354964, accuracy = 0.9816666666666667\n",
            "Epoch: 37, Training Loss: 0.05340925280897767, Validation Loss: 0.1363327927645296, accuracy = 0.9803333333333333\n",
            "Epoch: 38, Training Loss: 0.015915766159982497, Validation Loss: 0.11448610202696485, accuracy = 0.98\n",
            "Epoch: 39, Training Loss: 0.008213420281468037, Validation Loss: 0.17993129276546338, accuracy = 0.973\n",
            "Epoch: 40, Training Loss: 0.04050606636863376, Validation Loss: 0.12302466982618596, accuracy = 0.9776666666666667\n",
            "Epoch: 41, Training Loss: 0.01813694689818076, Validation Loss: 0.15345374864683253, accuracy = 0.9803333333333333\n",
            "Epoch: 42, Training Loss: 0.030960223407975475, Validation Loss: 0.17553086779732258, accuracy = 0.9776666666666667\n",
            "Epoch: 43, Training Loss: 0.011861618876863152, Validation Loss: 0.1373276350749899, accuracy = 0.9826666666666667\n",
            "Epoch: 44, Training Loss: 0.002272361611377801, Validation Loss: 0.15647397714450925, accuracy = 0.9806666666666667\n",
            "Epoch: 45, Training Loss: 0.011968673913188559, Validation Loss: 0.12980101381894202, accuracy = 0.9816666666666667\n",
            "Epoch: 46, Training Loss: 0.03240791136747333, Validation Loss: 0.13651637534471228, accuracy = 0.979\n",
            "Epoch: 47, Training Loss: 0.007493364162809492, Validation Loss: 0.15158713245776018, accuracy = 0.9803333333333333\n",
            "Epoch: 48, Training Loss: 0.013506666959110953, Validation Loss: 0.197733381834502, accuracy = 0.9696666666666667\n",
            "Epoch: 49, Training Loss: 0.03315091009756143, Validation Loss: 0.18944121712609194, accuracy = 0.9783333333333334\n",
            "Epoch: 50, Training Loss: 0.04216112413510976, Validation Loss: 0.15241639768896859, accuracy = 0.9793333333333333\n"
          ]
        }
      ]
    },
    {
      "cell_type": "code",
      "source": [
        "history[['train_loss','valid_loss']].plot()"
      ],
      "metadata": {
        "colab": {
          "base_uri": "https://localhost:8080/",
          "height": 447
        },
        "id": "seaesN537g3-",
        "outputId": "ef91ddde-ef0b-4263-9966-ab0df51abe05"
      },
      "execution_count": 28,
      "outputs": [
        {
          "output_type": "execute_result",
          "data": {
            "text/plain": [
              "<Axes: >"
            ]
          },
          "metadata": {},
          "execution_count": 28
        },
        {
          "output_type": "display_data",
          "data": {
            "text/plain": [
              "<Figure size 640x480 with 1 Axes>"
            ],
            "image/png": "[encoded data removed]"
          },
          "metadata": {}
        }
      ]
    },
    {
      "cell_type": "code",
      "source": [
        "def test_model(model, test_loader, device):\n",
        "    # Set model to evaluation mode\n",
        "    model.eval()\n",
        "\n",
        "    # Variables to track performance\n",
        "    total_correct = 0\n",
        "    total_samples = 0\n",
        "    loss_sum = 0.0\n",
        "\n",
        "    # Disable gradient calculations (faster and saves memory)\n",
        "    with torch.no_grad():\n",
        "        for data, labels in test_loader:\n",
        "            # Move data to the appropriate device\n",
        "            data, labels = data.to(device), labels.to(device)\n",
        "\n",
        "            # Forward pass\n",
        "            outputs = model(data)\n",
        "\n",
        "            # Calculate the loss (assuming CrossEntropyLoss)\n",
        "            loss = F.cross_entropy(outputs, labels)\n",
        "            loss_sum += loss.item()\n",
        "\n",
        "            # Get predictions from the output\n",
        "            _, predicted = torch.max(outputs, 1)\n",
        "\n",
        "            # Compare predictions to actual labels\n",
        "            total_correct += (predicted == labels).sum().item()\n",
        "            total_samples += labels.size(0)\n",
        "\n",
        "    # Calculate average loss and accuracy\n",
        "    avg_loss = loss_sum / len(test_loader)\n",
        "    accuracy = total_correct / total_samples * 100\n",
        "\n",
        "    print(f'Test Loss: {avg_loss:.4f}, Test Accuracy: {accuracy:.2f}%')\n",
        "\n",
        "    return avg_loss, accuracy"
      ],
      "metadata": {
        "id": "5g7sTVLc9Q71"
      },
      "execution_count": 29,
      "outputs": []
    },
    {
      "cell_type": "code",
      "source": [
        "test_loss , test_accuracy = test_model(model, test_data_loader, device)"
      ],
      "metadata": {
        "colab": {
          "base_uri": "https://localhost:8080/"
        },
        "id": "ObzTU5q_9Tr8",
        "outputId": "472b2f6e-290c-4884-be26-064f554621e8"
      },
      "execution_count": 31,
      "outputs": [
        {
          "output_type": "stream",
          "name": "stdout",
          "text": [
            "Test Loss: 0.1491, Test Accuracy: 97.23%\n"
          ]
        }
      ]
    },
    {
      "cell_type": "code",
      "source": [
        "import numpy as np\n",
        "\n",
        "def predict(model, test_generator, labels, device):\n",
        "    model.eval()\n",
        "\n",
        "    y_true = []\n",
        "    y_pred = []\n",
        "\n",
        "    for inputs, targets in test_generator:\n",
        "        inputs = inputs.to(device)\n",
        "        targets = targets.numpy()\n",
        "\n",
        "        probabilities, predicted_classes = _predict(model, inputs, device)\n",
        "\n",
        "        y_true.extend(targets)\n",
        "        y_pred.extend(predicted_classes.cpu().numpy())\n",
        "\n",
        "    y_true = np.array(y_true)\n",
        "    y_pred = np.array(y_pred)\n",
        "\n",
        "    return y_true,y_pred\n",
        "\n",
        "\n",
        "def _predict(model, input_data, device):\n",
        "    model.eval()\n",
        "\n",
        "    if isinstance(input_data, np.ndarray):\n",
        "        input_data = torch.tensor(input_data).float().to(device)\n",
        "\n",
        "    if input_data.ndim == 3:\n",
        "        input_data = input_data.unsqueeze(0)\n",
        "\n",
        "    with torch.no_grad():\n",
        "        outputs = model(input_data)\n",
        "\n",
        "        probabilities = torch.softmax(outputs, dim=1)\n",
        "\n",
        "        _, predicted_classes = torch.max(probabilities, 1)\n",
        "\n",
        "    return probabilities, predicted_classes\n"
      ],
      "metadata": {
        "id": "bXAO7S2NCLnx"
      },
      "execution_count": 59,
      "outputs": []
    },
    {
      "cell_type": "code",
      "source": [
        "import matplotlib.pyplot as plt\n",
        "from sklearn.metrics import confusion_matrix, classification_report, ConfusionMatrixDisplay\n",
        "\n",
        "y_true, y_pred=predict(model, test_data_loader, labels, device)\n",
        "\n",
        "cm = confusion_matrix(y_true, y_pred)\n",
        "disp = ConfusionMatrixDisplay(confusion_matrix=cm, display_labels=labels.values())\n",
        "disp.plot()\n",
        "plt.xticks(rotation=90)\n",
        "plt.xlabel('Predicted Classes')\n",
        "plt.ylabel('True Classes')\n",
        "plt.title('Confusion Matrix')\n",
        "plt.show()"
      ],
      "metadata": {
        "colab": {
          "base_uri": "https://localhost:8080/",
          "height": 549
        },
        "id": "4Wqk7PPZIghO",
        "outputId": "019f5246-bd07-4cf4-a147-616acbb117ca"
      },
      "execution_count": 60,
      "outputs": [
        {
          "output_type": "display_data",
          "data": {
            "text/plain": [
              "<Figure size 640x480 with 2 Axes>"
            ],
            "image/png": "[encoded data removed]"
          },
          "metadata": {}
        }
      ]
    },
    {
      "cell_type": "code",
      "source": [
        "print(classification_report(y_true, y_pred, target_names=labels.values()))"
      ],
      "metadata": {
        "colab": {
          "base_uri": "https://localhost:8080/"
        },
        "id": "1d1oA0zTOUab",
        "outputId": "fb6c1156-53b3-4724-ff28-f9f53d8da128"
      },
      "execution_count": 61,
      "outputs": [
        {
          "output_type": "stream",
          "name": "stdout",
          "text": [
            "              precision    recall  f1-score   support\n",
            "\n",
            "        Bean       0.96      0.98      0.97       200\n",
            "Bitter_Gourd       0.99      0.93      0.96       200\n",
            "Bottle_Gourd       0.98      0.99      0.99       200\n",
            "     Brinjal       0.96      0.98      0.97       200\n",
            "    Broccoli       0.97      0.96      0.97       200\n",
            "     Cabbage       0.96      0.93      0.94       200\n",
            "    Capsicum       0.97      1.00      0.98       200\n",
            "      Carrot       1.00      1.00      1.00       200\n",
            " Cauliflower       0.98      0.93      0.95       200\n",
            "    Cucumber       0.99      0.99      0.99       200\n",
            "      Papaya       0.98      0.98      0.98       200\n",
            "      Potato       0.99      1.00      0.99       200\n",
            "     Pumpkin       0.95      0.94      0.95       200\n",
            "      Radish       0.99      0.99      0.99       200\n",
            "      Tomato       0.93      0.96      0.95       200\n",
            "\n",
            "    accuracy                           0.97      3000\n",
            "   macro avg       0.97      0.97      0.97      3000\n",
            "weighted avg       0.97      0.97      0.97      3000\n",
            "\n"
          ]
        }
      ]
    }
  ]
}